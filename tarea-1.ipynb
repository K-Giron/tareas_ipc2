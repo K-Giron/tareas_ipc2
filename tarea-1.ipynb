{
  "nbformat": 4,
  "nbformat_minor": 0,
  "metadata": {
    "colab": {
      "name": "1.Listas enlazadas.ipynb",
      "provenance": [],
      "collapsed_sections": [],
      "authorship_tag": "ABX9TyMUzmpAVjC7z4EX34Z00c9f",
      "include_colab_link": true
    },
    "kernelspec": {
      "name": "python3",
      "display_name": "Python 3"
    },
    "language_info": {
      "name": "python"
    }
  },
  "cells": [
    {
      "cell_type": "markdown",
      "metadata": {
        "id": "view-in-github",
        "colab_type": "text"
      },
      "source": [
        "<a href=\"https://colab.research.google.com/github/K-Giron/tareas_ipc2/blob/main/tarea-1.ipynb\" target=\"_parent\"><img src=\"https://colab.research.google.com/assets/colab-badge.svg\" alt=\"Open In Colab\"/></a>"
      ]
    },
    {
      "cell_type": "markdown",
      "metadata": {
        "id": "z0uApfuQtcoY"
      },
      "source": [
        "##**Listas enlazadas**\n",
        "\n",
        "---\n",
        "\n",
        "\n",
        "**Definición de la clase Estudiante**"
      ]
    },
    {
      "cell_type": "code",
      "metadata": {
        "id": "bvbxz4Y_ufS-"
      },
      "source": [
        "class estudiante:\n",
        "  def __init__(self, carne,nombre, edad, direccion, telefono, email, carrera, puesto):\n",
        "    self.carne= carne\n",
        "    self.nombre = nombre\n",
        "    self.edad = edad\n",
        "    self.direccion = direccion\n",
        "    self.telefono = telefono\n",
        "    self.email= email\n",
        "    self.carrera = carrera\n",
        "    self.puesto = puesto"
      ],
      "execution_count": 44,
      "outputs": []
    },
    {
      "cell_type": "markdown",
      "metadata": {
        "id": "OIa1QaVMzbPw"
      },
      "source": [
        "**Definición de la clase Nodo**"
      ]
    },
    {
      "cell_type": "code",
      "metadata": {
        "id": "VCUWhuY6scQO"
      },
      "source": [
        "class nodo:\n",
        "  def __init__(self, estudiante=None, siguiente= None):\n",
        "    self.estudiante= estudiante\n",
        "    self.siguiente= siguiente"
      ],
      "execution_count": 45,
      "outputs": []
    },
    {
      "cell_type": "markdown",
      "metadata": {
        "id": "zAsO_ag425Eu"
      },
      "source": [
        "**Definición de la clase lista enlazada**"
      ]
    },
    {
      "cell_type": "code",
      "metadata": {
        "id": "jU3rBcc4scbE"
      },
      "source": [
        "class lista_enlazada:\n",
        "  def __init__(self):\n",
        "    self.primero=None\n",
        "  \n",
        "  def insertar(self,estudiante):\n",
        "    if self.primero is None:\n",
        "      self.primero = nodo(estudiante=estudiante)\n",
        "      return\n",
        "    actual = self.primero\n",
        "    while actual.siguiente:\n",
        "      actual = actual.siguiente\n",
        "    actual.siguiente = nodo(estudiante=estudiante)\n",
        "  \n",
        "  def recorrer(self):\n",
        "    actual= self.primero\n",
        "    while actual != None:\n",
        "      print(\"carne\",actual.estudiante.carne,\"nombre:\",actual.estudiante.nombre,\"email:\",actual.estudiante.email,\"->\")\n",
        "      actual=actual.siguiente\n",
        "\n",
        "  def eliminar(self, carne):\n",
        "    actual=self.primero\n",
        "    anterior=None\n",
        "\n",
        "    while actual and actual.estudiante.carne != carne:\n",
        "      anterior =actual\n",
        "      actual= actual.siguiente\n",
        "\n",
        "    if anterior is None:\n",
        "        self.primero= actual.siguiente\n",
        "    elif actual:\n",
        "      anterior.siguiente=actual.siguiente\n",
        "      actual.siguiente= None\n",
        "\n",
        "  def buscar(self, carne):\n",
        "    actual=self.primero\n",
        "\n",
        "    while actual != None:\n",
        "      if actual and actual.estudiante.carne == carne:\n",
        "        print(f\"carne\",actual.estudiante.carne,\"nombre:\",actual.estudiante.nombre,\"email:\",actual.estudiante.email)\n",
        "      actual = actual.siguiente\n"
      ],
      "execution_count": 46,
      "outputs": []
    },
    {
      "cell_type": "markdown",
      "metadata": {
        "id": "ORowTcIy4pgr"
      },
      "source": [
        "**Creación de objetos estudiante**\n"
      ]
    },
    {
      "cell_type": "code",
      "metadata": {
        "id": "GUhOq8HQ4njp"
      },
      "source": [
        "e1=estudiante(201904053,\"Gerson Ortiz\",20,\"9 calle 10-02 zona 1\",2444401,\"gerson.ortiz@gmail.com\",\"Ingenieria en sistemas\",\"Programador Jr\")\n",
        "e2=estudiante(201904820,\"Karen Hurtarte\",21,\"7 calle 10-01 zona 7\",1452369,\"karen.hurtarte@gmail.com\",\"Ingenieria en sistemas\",\"Programador Jr\")\n",
        "e3=estudiante(201908452,\"Luis  Mendez\",22,\"14 calle 18-1 zona 5\",14526320,\"luis.mendez@gmail.com\",\"Ingenieria en sistemas\",\"Programador Jr\")"
      ],
      "execution_count": 47,
      "outputs": []
    },
    {
      "cell_type": "markdown",
      "metadata": {
        "id": "dj6MmyWmuCYX"
      },
      "source": [
        "**Insercion**\n"
      ]
    },
    {
      "cell_type": "code",
      "metadata": {
        "id": "KIgsy4bduF1e"
      },
      "source": [
        "lista_e= lista_enlazada()\n",
        "lista_e.insertar(e1)\n",
        "lista_e.insertar(e2)\n",
        "lista_e.insertar(e3)"
      ],
      "execution_count": 48,
      "outputs": []
    },
    {
      "cell_type": "code",
      "metadata": {
        "colab": {
          "base_uri": "https://localhost:8080/"
        },
        "id": "e8q3LzI6vro1",
        "outputId": "f0a72926-1943-4ee3-90d9-67e69ac885d8"
      },
      "source": [
        "lista_e.recorrer()"
      ],
      "execution_count": 49,
      "outputs": [
        {
          "output_type": "stream",
          "text": [
            "carne 201904053 nombre: Gerson Ortiz email: gerson.ortiz@gmail.com ->\n",
            "carne 201904820 nombre: Karen Hurtarte email: karen.hurtarte@gmail.com ->\n",
            "carne 201908452 nombre: Luis  Mendez email: luis.mendez@gmail.com ->\n"
          ],
          "name": "stdout"
        }
      ]
    },
    {
      "cell_type": "markdown",
      "metadata": {
        "id": "_Z-NGQYQw9c1"
      },
      "source": [
        "**Eliminar**"
      ]
    },
    {
      "cell_type": "code",
      "metadata": {
        "colab": {
          "base_uri": "https://localhost:8080/"
        },
        "id": "pKgQ2tN7xBP3",
        "outputId": "fb1c4eb9-e06a-4d10-f475-98ee34304652"
      },
      "source": [
        "lista_e.eliminar(201904820)\n",
        "lista_e.recorrer()"
      ],
      "execution_count": 50,
      "outputs": [
        {
          "output_type": "stream",
          "text": [
            "carne 201904053 nombre: Gerson Ortiz email: gerson.ortiz@gmail.com ->\n",
            "carne 201908452 nombre: Luis  Mendez email: luis.mendez@gmail.com ->\n"
          ],
          "name": "stdout"
        }
      ]
    },
    {
      "cell_type": "markdown",
      "metadata": {
        "id": "p62naXiCGchQ"
      },
      "source": [
        "**Buscar**"
      ]
    },
    {
      "cell_type": "code",
      "metadata": {
        "colab": {
          "base_uri": "https://localhost:8080/"
        },
        "id": "E568Du4OGfJE",
        "outputId": "dffc786d-f4c2-4b69-8dfa-cc759ad34ffc"
      },
      "source": [
        "lista_e.buscar(201908452)\n"
      ],
      "execution_count": 52,
      "outputs": [
        {
          "output_type": "stream",
          "text": [
            "carne 201908452 nombre: Luis  Mendez email: luis.mendez@gmail.com\n"
          ],
          "name": "stdout"
        }
      ]
    }
  ]
}