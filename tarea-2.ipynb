{
  "nbformat": 4,
  "nbformat_minor": 0,
  "metadata": {
    "colab": {
      "name": "2.Listas circulares",
      "provenance": [],
      "authorship_tag": "ABX9TyOHRJs1jKVrRxGmLSwjAv41",
      "include_colab_link": true
    },
    "kernelspec": {
      "name": "python3",
      "display_name": "Python 3"
    },
    "language_info": {
      "name": "python"
    }
  },
  "cells": [
    {
      "cell_type": "markdown",
      "metadata": {
        "id": "view-in-github",
        "colab_type": "text"
      },
      "source": [
        "<a href=\"https://colab.research.google.com/github/K-Giron/tareas_ipc2/blob/main/tarea-2.ipynb\" target=\"_parent\"><img src=\"https://colab.research.google.com/assets/colab-badge.svg\" alt=\"Open In Colab\"/></a>"
      ]
    },
    {
      "cell_type": "markdown",
      "metadata": {
        "id": "qLJ_CvCBzRNW"
      },
      "source": [
        "**LISTAS CIRCULARES**"
      ]
    },
    {
      "cell_type": "markdown",
      "metadata": {
        "id": "KmYkeoiqzkdB"
      },
      "source": [
        "**definicion de clase**\n"
      ]
    },
    {
      "cell_type": "code",
      "metadata": {
        "id": "BqKyGQy6zN1e"
      },
      "source": [
        "class estudiante:\n",
        "  def __init__(self, carne,nombre, edad, direccion, telefono, email, carrera, puesto):\n",
        "    self.carne= carne\n",
        "    self.nombre = nombre\n",
        "    self.edad = edad\n",
        "    self.direccion = direccion\n",
        "    self.telefono = telefono\n",
        "    self.email= email\n",
        "    self.carrera = carrera\n",
        "    self.puesto = puesto"
      ],
      "execution_count": 1,
      "outputs": []
    },
    {
      "cell_type": "markdown",
      "metadata": {
        "id": "U9cSH0Kyzsr3"
      },
      "source": [
        "**Definición de clase nodo**"
      ]
    },
    {
      "cell_type": "code",
      "metadata": {
        "id": "B15ldA7nzq2w"
      },
      "source": [
        "class nodo:\n",
        "  def __init__(self, estudiante=None, siguiente= None):\n",
        "    self.estudiante= estudiante\n",
        "    self.siguiente= siguiente"
      ],
      "execution_count": 2,
      "outputs": []
    },
    {
      "cell_type": "markdown",
      "metadata": {
        "id": "LdQ9N75uz1OJ"
      },
      "source": [
        "**Definicion de clase lista circular**"
      ]
    },
    {
      "cell_type": "code",
      "metadata": {
        "id": "tSAl5jC41rnl"
      },
      "source": [
        "class lista_circular:\n",
        "  def __init__(self):\n",
        "    self.primero =None\n",
        "\n",
        "  def insertar(self, estudiante):\n",
        "    if self.primero is None:\n",
        "      self.primero= nodo(estudiante=estudiante)\n",
        "      self.primero.siguiente = self.primero\n",
        "    else:\n",
        "      actual=nodo(estudiante=estudiante, siguiente=self.primero.siguiente)\n",
        "      self.primero.siguiente= actual\n",
        "\n",
        "  def recorrer(self):\n",
        "    if self.primero is None:\n",
        "      return\n",
        "    actual = self.primero\n",
        "    print(\"Carne: \", actual.estudiante.carne, \"Nombre: \", actual.estudiante.nombre, \"Email\", actual.estudiante.email, \"---\")\n",
        "    while actual.siguiente != self.primero:\n",
        "      actual = actual.siguiente\n",
        "      print(\"Carne: \", actual.estudiante.carne, \"Nombre: \", actual.estudiante.nombre, \"Email\", actual.estudiante.email, \"---\")\n",
        "\n",
        "\n",
        "  def eliminar(self, carne):\n",
        "    actual = self.primero\n",
        "    anterior = None\n",
        "  \n",
        "    while actual and actual.estudiante.carne != None:\n",
        "      anterior = actual\n",
        "      actual = actual.siguiente\n",
        "      if actual == self.primero:\n",
        "        break\n",
        "\n",
        "    if anterior is None:\n",
        "      anterior.siguiente = actual.siguiente\n",
        "    else:\n",
        "      while actual.siguiente != self.primero:\n",
        "        actual = actual.siguiente\n",
        "      actual.siguiente = self.primero.siguiente\n",
        "      self.primero = self.primero.siguiente\n",
        "\n",
        "  def buscar(self, carne):\n",
        "    actual=self.primero\n",
        "    anterior=None\n",
        "    no_Esta=False\n",
        "    while actual and actual.estudiante.carne != carne:\n",
        "      anterior=actual\n",
        "      actual=actual.siguiente\n",
        "      if actual==self.primero:\n",
        "        no_Esta=True\n",
        "        break\n",
        "    if not no_Esta:\n",
        "      while actual !=None:\n",
        "        if actual.estudiante.carne == carne:\n",
        "            print(\"Carne: \", actual.estudiante.carne, \"Nombre: \", actual.estudiante.nombre, \"Email\", actual.estudiante.email, \"---\" )\n",
        "            break \n",
        "        else:\n",
        "            actual = actual.siguiente"
      ],
      "execution_count": 3,
      "outputs": []
    },
    {
      "cell_type": "markdown",
      "metadata": {
        "id": "7RVz9lZV2lPf"
      },
      "source": [
        "**Creación de objetos estudiante**"
      ]
    },
    {
      "cell_type": "code",
      "metadata": {
        "id": "m5QhUcWj-Dqr"
      },
      "source": [
        "e1=estudiante(201904053,\"Gerson Ortiz\",20,\"9 calle 10-02 zona 1\",2444401,\"gerson.ortiz@gmail.com\",\"Ingenieria en sistemas\",\"Programador Jr\")\n",
        "e2=estudiante(201904820,\"Karen Hurtarte\",21,\"7 calle 10-01 zona 7\",1452369,\"karen.hurtarte@gmail.com\",\"Ingenieria en sistemas\",\"Programador Jr\")\n",
        "e3=estudiante(201908452,\"Luis  Mendez\",22,\"14 calle 18-1 zona 5\",14526320,\"luis.mendez@gmail.com\",\"Ingenieria en sistemas\",\"Programador Jr\")"
      ],
      "execution_count": 4,
      "outputs": []
    },
    {
      "cell_type": "markdown",
      "metadata": {
        "id": "k191sPHC-F9B"
      },
      "source": [
        "**INSERCION**"
      ]
    },
    {
      "cell_type": "code",
      "metadata": {
        "id": "TLp29l52-KHz"
      },
      "source": [
        "lista_c=lista_circular()\n",
        "lista_c.insertar(e1)\n",
        "lista_c.insertar(e2)\n",
        "lista_c.insertar(e3)"
      ],
      "execution_count": 5,
      "outputs": []
    },
    {
      "cell_type": "code",
      "metadata": {
        "colab": {
          "base_uri": "https://localhost:8080/"
        },
        "id": "wV7Gh10c-T0U",
        "outputId": "daf233ef-4186-4290-dfc6-e7bb02cf5a3c"
      },
      "source": [
        "lista_c.recorrer()"
      ],
      "execution_count": 6,
      "outputs": [
        {
          "output_type": "stream",
          "text": [
            "Carne:  201904053 Nombre:  Gerson Ortiz Email gerson.ortiz@gmail.com ---\n",
            "Carne:  201908452 Nombre:  Luis  Mendez Email luis.mendez@gmail.com ---\n",
            "Carne:  201904820 Nombre:  Karen Hurtarte Email karen.hurtarte@gmail.com ---\n"
          ],
          "name": "stdout"
        }
      ]
    },
    {
      "cell_type": "code",
      "metadata": {
        "colab": {
          "base_uri": "https://localhost:8080/"
        },
        "id": "B38-HyQiwaCR",
        "outputId": "80911dab-3455-4947-b700-d4ab5e76334f"
      },
      "source": [
        "lista_c.eliminar(201904053)\n",
        "lista_c.recorrer()"
      ],
      "execution_count": 7,
      "outputs": [
        {
          "output_type": "stream",
          "text": [
            "Carne:  201908452 Nombre:  Luis  Mendez Email luis.mendez@gmail.com ---\n",
            "Carne:  201904820 Nombre:  Karen Hurtarte Email karen.hurtarte@gmail.com ---\n"
          ],
          "name": "stdout"
        }
      ]
    },
    {
      "cell_type": "code",
      "metadata": {
        "colab": {
          "base_uri": "https://localhost:8080/"
        },
        "id": "A-SUBXc_wt-h",
        "outputId": "ed20eadd-84e0-4116-a836-82907b137199"
      },
      "source": [
        "lista_c.buscar(201908452 )"
      ],
      "execution_count": 9,
      "outputs": [
        {
          "output_type": "stream",
          "text": [
            "Carne:  201908452 Nombre:  Luis  Mendez Email luis.mendez@gmail.com ---\n"
          ],
          "name": "stdout"
        }
      ]
    }
  ]
}