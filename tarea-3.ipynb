{
  "nbformat": 4,
  "nbformat_minor": 0,
  "metadata": {
    "colab": {
      "name": "3.Listas doblemente enlazadas",
      "provenance": [],
      "authorship_tag": "ABX9TyO7ZoNgM4wRPvfg8Dfkdf2l",
      "include_colab_link": true
    },
    "kernelspec": {
      "name": "python3",
      "display_name": "Python 3"
    },
    "language_info": {
      "name": "python"
    }
  },
  "cells": [
    {
      "cell_type": "markdown",
      "metadata": {
        "id": "view-in-github",
        "colab_type": "text"
      },
      "source": [
        "<a href=\"https://colab.research.google.com/github/K-Giron/tareas_ipc2/blob/main/tarea-3.ipynb\" target=\"_parent\"><img src=\"https://colab.research.google.com/assets/colab-badge.svg\" alt=\"Open In Colab\"/></a>"
      ]
    },
    {
      "cell_type": "markdown",
      "metadata": {
        "id": "YasG1u2ZvjkG"
      },
      "source": [
        "**Listas enlazadas**\n"
      ]
    },
    {
      "cell_type": "markdown",
      "metadata": {
        "id": "oVcpYbocvrS3"
      },
      "source": [
        "**CLase estudiante**"
      ]
    },
    {
      "cell_type": "code",
      "metadata": {
        "id": "wCEUINlpvocb"
      },
      "source": [
        "class estudiante:\n",
        "  def __init__(self, carne,nombre, edad, direccion, telefono, email, carrera, puesto):\n",
        "    self.carne= carne\n",
        "    self.nombre = nombre\n",
        "    self.edad = edad\n",
        "    self.direccion = direccion\n",
        "    self.telefono = telefono\n",
        "    self.email= email\n",
        "    self.carrera = carrera\n",
        "    self.puesto = puesto"
      ],
      "execution_count": 1,
      "outputs": []
    },
    {
      "cell_type": "markdown",
      "metadata": {
        "id": "SrkkRUEJzx-K"
      },
      "source": [
        "**CLASE nodo**"
      ]
    },
    {
      "cell_type": "code",
      "metadata": {
        "id": "vvo8FQXJz0cu"
      },
      "source": [
        "class nodo:\n",
        "  def __init__(self,estudiante=None, siguiente=None, anterior= None):\n",
        "    self.estudiante= estudiante\n",
        "    self.siguiente= siguiente\n",
        "    self.anterior= anterior"
      ],
      "execution_count": 2,
      "outputs": []
    },
    {
      "cell_type": "markdown",
      "metadata": {
        "id": "cnIPdnmV0Mfg"
      },
      "source": [
        "**Definicion de clase lista doblemente enlazada**"
      ]
    },
    {
      "cell_type": "code",
      "metadata": {
        "id": "WPAr8Y3kvibK"
      },
      "source": [
        "class lista_doble:\n",
        "  def __init__(self):\n",
        "    self.primero=None\n",
        "\n",
        "  def insertar(self,estudiante):\n",
        "    if self.primero is None:\n",
        "      self.primero= nodo(estudiante=estudiante)\n",
        "    else:\n",
        "      actual=nodo(estudiante=estudiante, siguiente=self.primero)\n",
        "      self.primero.anterior=actual\n",
        "      self.primero=actual\n",
        "\n",
        "  def recorrer(self):\n",
        "    if self.primero is None:\n",
        "      return\n",
        "    actual= self.primero\n",
        "    print(\"Carne: \", actual.estudiante.carne, \"Nombre: \", actual.estudiante.nombre, \"Email\", actual.estudiante.email, \"---\")\n",
        "    while actual.siguiente:\n",
        "      actual=actual.siguiente\n",
        "      print(\"Carne: \", actual.estudiante.carne, \"Nombre: \", actual.estudiante.nombre, \"Email\", actual.estudiante.email, \"---\")\n",
        "\n",
        "  def eliminar(self, carne):\n",
        "    actual = self.primero\n",
        "    while actual:\n",
        "      if actual.estudiante.carne == carne:\n",
        "        if actual.anterior:\n",
        "          if actual.siguiente:\n",
        "            actual.anterior.siguiente = actual.siguiente\n",
        "            actual.siguiente.anterior = actual.anterior\n",
        "          else:\n",
        "            actual.anterior.siguiente = None\n",
        "            actual.anterior = None\n",
        "        else:\n",
        "          if actual.siguiente:\n",
        "            self.primero = actual.siguiente\n",
        "            actual.siguiente.anterior = None\n",
        "          else:\n",
        "            self.primero = None\n",
        "        return True\n",
        "      else:\n",
        "        actual = actual.siguiente\n",
        "    return False\n",
        "\n",
        "  def buscar(self, carne):\n",
        "    actual = self.primero\n",
        "    while actual:\n",
        "      if actual.estudiante.carne == carne:\n",
        "        print(\"Carne: \", actual.estudiante.carne, \"Nombre: \", actual.estudiante.nombre, \"Email\", actual.estudiante.email, \"---\")\n",
        "        break\n",
        "      else:\n",
        "        actual = actual.siguiente"
      ],
      "execution_count": 3,
      "outputs": []
    },
    {
      "cell_type": "markdown",
      "metadata": {
        "id": "Ef5be8Ag2Zpi"
      },
      "source": [
        "**Creacion de objetos estudiantes**\n"
      ]
    },
    {
      "cell_type": "code",
      "metadata": {
        "id": "P69Y4J9M2dNE"
      },
      "source": [
        "e1=estudiante(201904053,\"Gerson Ortiz\",20,\"9 calle 10-02 zona 1\",2444401,\"gerson.ortiz@gmail.com\",\"Ingenieria en sistemas\",\"Programador Jr\")\n",
        "e2=estudiante(201904820,\"Karen Hurtarte\",21,\"7 calle 10-01 zona 7\",1452369,\"karen.hurtarte@gmail.com\",\"Ingenieria en sistemas\",\"Programador Jr\")\n",
        "e3=estudiante(201908452,\"Luis  Mendez\",22,\"14 calle 18-1 zona 5\",14526320,\"luis.mendez@gmail.com\",\"Ingenieria en sistemas\",\"Programador Jr\")"
      ],
      "execution_count": 4,
      "outputs": []
    },
    {
      "cell_type": "markdown",
      "metadata": {
        "id": "Z3bJD5PO2g5C"
      },
      "source": [
        "**Insercion**"
      ]
    },
    {
      "cell_type": "code",
      "metadata": {
        "id": "YZpFKnLQ2kPZ"
      },
      "source": [
        "lista_c=lista_doble()\n",
        "lista_c.insertar(e1)\n",
        "lista_c.insertar(e2)\n",
        "lista_c.insertar(e3)"
      ],
      "execution_count": 5,
      "outputs": []
    },
    {
      "cell_type": "markdown",
      "metadata": {
        "id": "IlrP2AGKwQXu"
      },
      "source": [
        "**Recorrer la lista**"
      ]
    },
    {
      "cell_type": "code",
      "metadata": {
        "colab": {
          "base_uri": "https://localhost:8080/"
        },
        "id": "Y6wjGgP1wPUB",
        "outputId": "6cbe2615-f3f2-4d7f-a2a6-f4d6b5761ab7"
      },
      "source": [
        "lista_c.recorrer()"
      ],
      "execution_count": 6,
      "outputs": [
        {
          "output_type": "stream",
          "text": [
            "Carne:  201908452 Nombre:  Luis  Mendez Email luis.mendez@gmail.com ---\n",
            "Carne:  201904820 Nombre:  Karen Hurtarte Email karen.hurtarte@gmail.com ---\n",
            "Carne:  201904053 Nombre:  Gerson Ortiz Email gerson.ortiz@gmail.com ---\n"
          ],
          "name": "stdout"
        }
      ]
    },
    {
      "cell_type": "markdown",
      "metadata": {
        "id": "jLfsmA_P2p16"
      },
      "source": [
        "**Elimnar**"
      ]
    },
    {
      "cell_type": "code",
      "metadata": {
        "colab": {
          "base_uri": "https://localhost:8080/"
        },
        "id": "OmO8Eors2rp3",
        "outputId": "1766acc7-9182-4b12-8855-a36de8f58eac"
      },
      "source": [
        "lista_c.eliminar(201904820)\n",
        "lista_c.recorrer()"
      ],
      "execution_count": 7,
      "outputs": [
        {
          "output_type": "stream",
          "text": [
            "Carne:  201908452 Nombre:  Luis  Mendez Email luis.mendez@gmail.com ---\n",
            "Carne:  201904053 Nombre:  Gerson Ortiz Email gerson.ortiz@gmail.com ---\n"
          ],
          "name": "stdout"
        }
      ]
    },
    {
      "cell_type": "markdown",
      "metadata": {
        "id": "_OmZLuQgAFX-"
      },
      "source": [
        "**Buscar**\n"
      ]
    },
    {
      "cell_type": "code",
      "metadata": {
        "colab": {
          "base_uri": "https://localhost:8080/"
        },
        "id": "BTHUXT7QAHPh",
        "outputId": "3c3bcc37-7422-44bf-e23c-3c9a7cbc0674"
      },
      "source": [
        "lista_c.buscar(201908452)\n"
      ],
      "execution_count": 9,
      "outputs": [
        {
          "output_type": "stream",
          "text": [
            "Carne:  201908452 Nombre:  Luis  Mendez Email luis.mendez@gmail.com ---\n"
          ],
          "name": "stdout"
        }
      ]
    }
  ]
}